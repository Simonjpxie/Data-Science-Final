{
 "cells": [
  {
   "cell_type": "markdown",
   "id": "7bcca18d",
   "metadata": {},
   "source": [
    "# Final Project for ECON 5821"
   ]
  },
  {
   "cell_type": "code",
   "execution_count": 1,
   "id": "bb2e7fed",
   "metadata": {},
   "outputs": [],
   "source": [
    "rm(list = ls())\n",
    "\n",
    "# Set working directory\n",
    "setwd(\"/Users/xiejiapeng/Desktop/Data Science\")"
   ]
  },
  {
   "cell_type": "code",
   "execution_count": 1,
   "id": "2a66d71f",
   "metadata": {},
   "outputs": [
    {
     "name": "stderr",
     "output_type": "stream",
     "text": [
      "Warning message:\n",
      "“package ‘Matrix’ is not available for this version of R\n",
      "‘Matrix’ version 1.7-0 is in the repositories but depends on R (>= 4.4.0)\n",
      "‘Matrix’ version 1.7-0 is in the repositories but depends on R (>= 4.5)\n",
      "\n",
      "A version of this package for your version of R might be available elsewhere,\n",
      "see the ideas at\n",
      "https://cran.r-project.org/doc/manuals/r-patched/R-admin.html#Installing-packages”\n"
     ]
    }
   ],
   "source": [
    "install.packages(\"Matrix\")"
   ]
  },
  {
   "cell_type": "code",
   "execution_count": 1,
   "id": "0a1367f7",
   "metadata": {},
   "outputs": [
    {
     "ename": "ERROR",
     "evalue": "Error in library(tidyverse): there is no package called ‘tidyverse’\n",
     "output_type": "error",
     "traceback": [
      "Error in library(tidyverse): there is no package called ‘tidyverse’\nTraceback:\n",
      "1. library(tidyverse)"
     ]
    }
   ],
   "source": [
    "# Load required libraries\n",
    "\n",
    "library(readxl)\n",
    "library(httr)\n",
    "library(tidyverse)\n",
    "library(lubridate)\n",
    "library(dplyr)\n",
    "library(tibble)\n",
    "library(glmnet)\n",
    "library(caret)\n",
    "library(doParallel)\n",
    "library(xgboost)\n",
    "library(Metrics)\n",
    "library(randomForest)\n",
    "library(forecast)\n",
    "library(tseries)"
   ]
  },
  {
   "cell_type": "markdown",
   "id": "1242ed52",
   "metadata": {},
   "source": [
    "## Train_data Processing"
   ]
  },
  {
   "cell_type": "code",
   "execution_count": null,
   "id": "31437739",
   "metadata": {},
   "outputs": [],
   "source": [
    "# Download and load train_data\n",
    "\n",
    "url <- \"https://github.com/zhentaoshi/Econ5821/raw/main/data_example/US_PCE_training.xlsx\"\n",
    "temp_file <- tempfile()\n",
    "download.file(url, temp_file, mode = \"wb\")\n",
    "train_data <- read_excel(temp_file, col_names = TRUE)"
   ]
  },
  {
   "cell_type": "code",
   "execution_count": null,
   "id": "32b8c06e",
   "metadata": {},
   "outputs": [],
   "source": [
    "# Train_data processing\n",
    "\n",
    "train_data <- train_data[-c(2, 3, 4), ]\n",
    "train_data <- as.data.frame(t(train_data))\n",
    "colnames(train_data) <- as.character(unlist(train_data[1, ]))\n",
    "train_data <- train_data[-1, ]\n",
    "train_data$Month <- row.names(train_data)\n",
    "train_data$Month <- as.Date(train_data$Month, format = \"%b-%Y\")\n",
    "train_data[] <- lapply(train_data, function(x) as.numeric(as.character(x)))\n",
    "names(train_data)[1] <- \"PCE\"\n",
    "names(train_data)[175] <- \"Religious organizations' services to households.1\"\n",
    "names(train_data)[201] <- \"Religious organizations' services to households.2\"\n",
    "names(train_data)[176] <- \"Foundations and grantmaking and giving services to households.1\"\n",
    "names(train_data)[202] <- \"Foundations and grantmaking and giving services to households.2\"\n",
    "train_data <- train_data[, -206]\n",
    "train_data <- train_data %>% mutate(Inflation_Rate = (log(PCE / lag(PCE))) * 12, Inflation_Rate = replace_na(Inflation_Rate, 0))\n",
    "train_data$month <- 1:732\n",
    "train_data <- train_data[,-1]\n",
    "scaled_features <- scale(train_data[setdiff(names(train_data), c('month', 'Inflation_Rate'))])\n",
    "colnames(scaled_features) <- paste(\"scaled\", colnames(scaled_features), sep=\"_\")\n",
    "train_data <- cbind(train_data[c('month', 'Inflation_Rate')], scaled_features)"
   ]
  },
  {
   "cell_type": "markdown",
   "id": "b53ecd5b",
   "metadata": {},
   "source": [
    "## Test_data Processing"
   ]
  },
  {
   "cell_type": "code",
   "execution_count": null,
   "id": "446f2023",
   "metadata": {},
   "outputs": [],
   "source": [
    "# Download and load test_data\n",
    "\n",
    "url <- \"https://github.com/zhentaoshi/Econ5821/raw/main/data_example/US_PCE_testing_fake.xlsx\"\n",
    "temp_file <- tempfile()\n",
    "download.file(url, temp_file, mode = \"wb\")\n",
    "test_data <- read_excel(temp_file, col_names = TRUE)"
   ]
  },
  {
   "cell_type": "code",
   "execution_count": null,
   "id": "27b986af",
   "metadata": {},
   "outputs": [],
   "source": [
    "# Test_data processing\n",
    "\n",
    "test_data <- test_data[-c(2, 3), ]\n",
    "test_data <- as.data.frame(t(test_data))\n",
    "colnames(test_data) <- as.character(unlist(test_data[1, ]))\n",
    "test_data <- test_data[-1, ]\n",
    "test_data$Month <- row.names(test_data)\n",
    "test_data$Month <- as.Date(test_data$Month, format = \"%b-%Y\")\n",
    "test_data[] <- lapply(test_data, function(x) as.numeric(as.character(x)))\n",
    "names(test_data)[1] <- \"PCE\"\n",
    "names(test_data)[175] <- \"Religious organizations' services to households.1\"\n",
    "names(test_data)[201] <- \"Religious organizations' services to households.2\"\n",
    "names(test_data)[176] <- \"Foundations and grantmaking and giving services to households.1\"\n",
    "names(test_data)[202] <- \"Foundations and grantmaking and giving services to households.2\"\n",
    "test_data <- test_data[, -206]\n",
    "test_data <- test_data %>% mutate(Inflation_Rate = (log(PCE / lag(PCE))) * 12, Inflation_Rate = replace_na(Inflation_Rate, 0))\n",
    "test_data$month <- 733:782\n",
    "test_data <- test_data[,-1]\n",
    "scaled_features <- scale(test_data[setdiff(names(test_data), c('month', 'Inflation_Rate'))])\n",
    "colnames(scaled_features) <- paste(\"scaled\", colnames(scaled_features), sep=\"_\")\n",
    "test_data <- cbind(test_data[c('month', 'Inflation_Rate')], scaled_features)"
   ]
  },
  {
   "cell_type": "markdown",
   "id": "26501665",
   "metadata": {},
   "source": [
    "## Lag 1 Month"
   ]
  },
  {
   "cell_type": "code",
   "execution_count": null,
   "id": "41f67200",
   "metadata": {},
   "outputs": [],
   "source": [
    "train_data_lag1 <- train_data %>% mutate(Inflation_Rate_lag1 = lag(Inflation_Rate)) %>% na.omit()\n",
    "test_data_lag1 <- test_data %>% mutate(Inflation_Rate_lag1 = lag(Inflation_Rate))\n",
    "test_data_lag1 <- test_data_lag1 %>% filter(!is.na(Inflation_Rate_lag1))"
   ]
  },
  {
   "cell_type": "markdown",
   "id": "e8dc3812",
   "metadata": {},
   "source": [
    "### LASSO"
   ]
  },
  {
   "cell_type": "code",
   "execution_count": null,
   "id": "1dfd01ef",
   "metadata": {},
   "outputs": [],
   "source": [
    "registerDoParallel(cores = detectCores() - 1)\n",
    "model_fit <- train(Inflation_Rate ~ ., data = train_data_lag1, method = \"glmnet\",\n",
    "                   trControl = trainControl(\"cv\", number = 10), tuneLength = 10)\n",
    "predictions <- predict(model_fit, newdata = test_data_lag1)\n",
    "print(predictions)\n",
    "performance <- postResample(predictions, test_data_lag1$Inflation_Rate)\n",
    "print(performance)\n",
    "plot(model_fit$finalModel)"
   ]
  },
  {
   "cell_type": "markdown",
   "id": "8cafc0d3",
   "metadata": {},
   "source": [
    "### Gradient Boosting"
   ]
  },
  {
   "cell_type": "code",
   "execution_count": null,
   "id": "5782c5be",
   "metadata": {},
   "outputs": [],
   "source": [
    "common_features <- intersect(names(train_data_lag1), names(test_data_lag1))\n",
    "train_data_lag1 <- train_data_lag1[, common_features]\n",
    "test_data_lag1 <- test_data_lag1[, common_features]\n",
    "train_x <- train_data_lag1[, setdiff(names(train_data_lag1), \"Inflation_Rate\")]\n",
    "train_y <- train_data_lag1$Inflation_Rate\n",
    "test_x <- test_data_lag1[, setdiff(names(test_data_lag1), \"Inflation_Rate\")]\n",
    "test_y <- test_data_lag1$Inflation_Rate\n",
    "\n",
    "fitControl <- trainControl(method = \"cv\", number = 5, savePredictions = \"final\", verboseIter = TRUE)\n",
    "model <- train(train_x, train_y, method = \"xgbTree\", trControl = fitControl, metric = \"RMSE\")\n",
    "predictions <- predict(model, test_x)\n",
    "print(predictions)\n",
    "rmse <- rmse(test_y, predictions)\n",
    "mae <- mae(test_y, predictions)\n",
    "r2 <- R2(test_y, predictions)\n",
    "print(paste(\"RMSE:\", rmse))\n",
    "print(paste(\"MAE:\", mae))\n",
    "print(paste(\"R-squared:\", r2))\n",
    "plot(test_y, type='o', col='blue', pch=20, xlab=\"Index\", ylab=\"Inflation Rate\", main=\"Actual vs Predicted Inflation Rates\")\n",
    "points(predictions, type='o', col='red', pch=20)"
   ]
  },
  {
   "cell_type": "markdown",
   "id": "87f89669",
   "metadata": {},
   "source": [
    "### Random Forest"
   ]
  },
  {
   "cell_type": "code",
   "execution_count": null,
   "id": "b72e72d1",
   "metadata": {},
   "outputs": [],
   "source": [
    "train_x <- train_data_lag1 %>% select(-month, -Inflation_Rate)\n",
    "train_y <- train_data_lag1$Inflation_Rate\n",
    "test_x <- test_data_lag1 %>% select(-month, -Inflation_Rate)\n",
    "test_y <- test_data_lag1$Inflation_Rate\n",
    "set.seed(123)\n",
    "rf_model <- randomForest(train_x, train_y, ntree=500)\n",
    "predictions <- predict(rf_model, test_x)\n",
    "print(predictions)\n",
    "performance <- postResample(predictions, test_y)\n",
    "print(performance)\n",
    "results <- data.frame(Actual = test_y, Predicted = predictions)\n",
    "plot(results$Actual, type = 'l', col = 'blue', xlab = 'Month Index', ylab = 'Inflation Rate', main = 'Actual vs Predicted Inflation')\n",
    "lines(results$Predicted, col = 'red')"
   ]
  },
  {
   "cell_type": "markdown",
   "id": "e67cc910",
   "metadata": {},
   "source": [
    "### AR(1)"
   ]
  },
  {
   "cell_type": "code",
   "execution_count": null,
   "id": "926155be",
   "metadata": {},
   "outputs": [],
   "source": [
    "data_ts <- ts(train_data_lag1$Inflation_Rate, frequency=12)\n",
    "adf.test(data_ts, alternative = \"stationary\")\n",
    "ar_order <- auto.arima(data_ts, ic = \"aic\", trace = TRUE, stepwise = FALSE, approximation = FALSE)\n",
    "ar_model <- Arima(data_ts, order=c(ar_order$arma[1], 0, 0))\n",
    "future_values <- forecast(ar_model, h=49)\n",
    "print(future_values)\n",
    "plot(future_values)\n",
    "summary(ar_model)"
   ]
  },
  {
   "cell_type": "markdown",
   "id": "f3fe1095",
   "metadata": {},
   "source": [
    "## Lag 3 Months"
   ]
  },
  {
   "cell_type": "code",
   "execution_count": null,
   "id": "8d1feaf9",
   "metadata": {},
   "outputs": [],
   "source": [
    "train_data_lag3 <- train_data %>% mutate(Inflation_Rate_lag3 = lag(Inflation_Rate, 3)) %>% na.omit()\n",
    "test_data_lag3 <- test_data %>% mutate(Inflation_Rate_lag3 = lag(Inflation_Rate, 3))\n",
    "test_data_lag3 <- test_data_lag3 %>% filter(!is.na(Inflation_Rate_lag3))"
   ]
  },
  {
   "cell_type": "markdown",
   "id": "2ddc0daa",
   "metadata": {},
   "source": [
    "### LASSO"
   ]
  },
  {
   "cell_type": "code",
   "execution_count": null,
   "id": "be95bd33",
   "metadata": {},
   "outputs": [],
   "source": [
    "registerDoParallel(cores = detectCores() - 1)\n",
    "model_fit <- train(Inflation_Rate ~ ., data = train_data_lag3, method = \"glmnet\",\n",
    "                   trControl = trainControl(\"cv\", number = 10), tuneLength = 10)\n",
    "predictions <- predict(model_fit, newdata = test_data_lag3)\n",
    "print(predictions)\n",
    "performance <- postResample(predictions, test_data_lag3$Inflation_Rate)\n",
    "print(performance)\n",
    "plot(model_fit$finalModel)"
   ]
  },
  {
   "cell_type": "markdown",
   "id": "53ff3b43",
   "metadata": {},
   "source": [
    "### Gradient Boosting"
   ]
  },
  {
   "cell_type": "code",
   "execution_count": null,
   "id": "c0c3ad37",
   "metadata": {},
   "outputs": [],
   "source": [
    "common_features <- intersect(names(train_data_lag3), names(test_data_lag3))\n",
    "train_data_lag3 <- train_data_lag3[, common_features]\n",
    "test_data_lag3 <- test_data_lag3[, common_features]\n",
    "train_x <- train_data_lag3[, setdiff(names(train_data_lag3), \"Inflation_Rate\")]\n",
    "train_y <- train_data_lag3$Inflation_Rate\n",
    "test_x <- test_data_lag3[, setdiff(names(test_data_lag3), \"Inflation_Rate\")]\n",
    "test_y <- test_data_lag3$Inflation_Rate\n",
    "\n",
    "fitControl <- trainControl(method = \"cv\", number = 5, savePredictions = \"final\", verboseIter = TRUE)\n",
    "model <- train(train_x, train_y, method = \"xgbTree\", trControl = fitControl, metric = \"RMSE\")\n",
    "predictions <- predict(model, test_x)\n",
    "print(predictions)\n",
    "rmse <- rmse(test_y, predictions)\n",
    "mae <- mae(test_y, predictions)\n",
    "r2 <- R2(test_y, predictions)\n",
    "print(paste(\"RMSE:\", rmse))\n",
    "print(paste(\"MAE:\", mae))\n",
    "print(paste(\"R-squared:\", r2))\n",
    "plot(test_y, type='o', col='blue', pch=20, xlab=\"Index\", ylab=\"Inflation Rate\", main=\"Actual vs Predicted Inflation Rates\")\n",
    "points(predictions, type='o', col='red', pch=20)"
   ]
  },
  {
   "cell_type": "markdown",
   "id": "dd7c513c",
   "metadata": {},
   "source": [
    "### Random Forest"
   ]
  },
  {
   "cell_type": "code",
   "execution_count": null,
   "id": "91f797ec",
   "metadata": {},
   "outputs": [],
   "source": [
    "train_x <- train_data_lag3 %>% select(-month, -Inflation_Rate)\n",
    "train_y <- train_data_lag3$Inflation_Rate\n",
    "test_x <- test_data_lag3 %>% select(-month, -Inflation_Rate)\n",
    "test_y <- test_data_lag3$Inflation_Rate\n",
    "set.seed(123)\n",
    "rf_model <- randomForest(train_x, train_y, ntree=500)\n",
    "predictions <- predict(rf_model, test_x)\n",
    "print(predictions)\n",
    "performance <- postResample(predictions, test_y)\n",
    "print(performance)\n",
    "results <- data.frame(Actual = test_y, Predicted = predictions)\n",
    "plot(results$Actual, type = 'l', col = 'blue', xlab = 'Month Index', ylab = 'Inflation Rate', main = 'Actual vs Predicted Inflation')\n",
    "lines(results$Predicted, col = 'red')"
   ]
  },
  {
   "cell_type": "markdown",
   "id": "19e5a231",
   "metadata": {},
   "source": [
    "### AR(1)"
   ]
  },
  {
   "cell_type": "code",
   "execution_count": null,
   "id": "f567bfc1",
   "metadata": {},
   "outputs": [],
   "source": [
    "data_ts <- ts(train_data_lag3$Inflation_Rate, frequency=12)\n",
    "adf.test(data_ts, alternative = \"stationary\")\n",
    "ar_order <- auto.arima(data_ts, ic = \"aic\", trace = TRUE, stepwise = FALSE, approximation = FALSE)\n",
    "ar_model <- Arima(data_ts, order=c(ar_order$arma[1], 0, 0))\n",
    "future_values <- forecast(ar_model, h=49)\n",
    "print(future_values)\n",
    "plot(future_values)\n",
    "summary(ar_model)"
   ]
  },
  {
   "cell_type": "markdown",
   "id": "88da7a0c",
   "metadata": {},
   "source": [
    "## Lag 12 Months"
   ]
  },
  {
   "cell_type": "code",
   "execution_count": null,
   "id": "78708ade",
   "metadata": {},
   "outputs": [],
   "source": [
    "train_data_lag12 <- train_data %>% mutate(Inflation_Rate_lag12 = lag(Inflation_Rate, 12)) %>% na.omit()\n",
    "test_data_lag12 <- test_data %>% mutate(Inflation_Rate_lag12 = lag(Inflation_Rate, 12))\n",
    "test_data_lag12 <- test_data_lag12 %>% filter(!is.na(Inflation_Rate_lag12))"
   ]
  },
  {
   "cell_type": "markdown",
   "id": "921d6fab",
   "metadata": {},
   "source": [
    "### LASSO"
   ]
  },
  {
   "cell_type": "code",
   "execution_count": null,
   "id": "d54f1410",
   "metadata": {},
   "outputs": [],
   "source": [
    "registerDoParallel(cores = detectCores() - 1)\n",
    "model_fit <- train(Inflation_Rate ~ ., data = train_data_lag12, method = \"glmnet\",\n",
    "                   trControl = trainControl(\"cv\", number = 10), tuneLength = 10)\n",
    "predictions <- predict(model_fit, newdata = test_data_lag12)\n",
    "print(predictions)\n",
    "performance <- postResample(predictions, test_data_lag12$Inflation_Rate)\n",
    "print(performance)\n",
    "plot(model_fit$finalModel)"
   ]
  },
  {
   "cell_type": "markdown",
   "id": "963fb115",
   "metadata": {},
   "source": [
    "### Gradient Boosting"
   ]
  },
  {
   "cell_type": "code",
   "execution_count": null,
   "id": "d27fc139",
   "metadata": {},
   "outputs": [],
   "source": [
    "common_features <- intersect(names(train_data_lag12), names(test_data_lag12))\n",
    "train_data_lag12 <- train_data_lag12[, common_features]\n",
    "test_data_lag12 <- test_data_lag12[, common_features]\n",
    "train_x <- train_data_lag12[, setdiff(names(train_data_lag12), \"Inflation_Rate\")]\n",
    "train_y <- train_data_lag12$Inflation_Rate\n",
    "test_x <- test_data_lag12[, setdiff(names(test_data_lag12), \"Inflation_Rate\")]\n",
    "test_y <- test_data_lag12$Inflation_Rate\n",
    "\n",
    "fitControl <- trainControl(method = \"cv\", number = 5, savePredictions = \"final\", verboseIter = TRUE)\n",
    "model <- train(train_x, train_y, method = \"xgbTree\", trControl = fitControl, metric = \"RMSE\")\n",
    "predictions <- predict(model, test_x)\n",
    "print(predictions)\n",
    "rmse <- rmse(test_y, predictions)\n",
    "mae <- mae(test_y, predictions)\n",
    "r2 <- R2(test_y, predictions)\n",
    "print(paste(\"RMSE:\", rmse))\n",
    "print(paste(\"MAE:\", mae))\n",
    "print(paste(\"R-squared:\", r2))\n",
    "plot(test_y, type='o', col='blue', pch=20, xlab=\"Index\", ylab=\"Inflation Rate\", main=\"Actual vs Predicted Inflation Rates\")\n",
    "points(predictions, type='o', col='red', pch=20)"
   ]
  },
  {
   "cell_type": "markdown",
   "id": "fffd3f7b",
   "metadata": {},
   "source": [
    "### Random Forest"
   ]
  },
  {
   "cell_type": "code",
   "execution_count": null,
   "id": "a577a992",
   "metadata": {},
   "outputs": [],
   "source": [
    "train_x <- train_data_lag12 %>% select(-month, -Inflation_Rate)\n",
    "train_y <- train_data_lag12$Inflation_Rate\n",
    "test_x <- test_data_lag12 %>% select(-month, -Inflation_Rate)\n",
    "test_y <- test_data_lag12$Inflation_Rate\n",
    "set.seed(123)\n",
    "rf_model <- randomForest(train_x, train_y, ntree=500)\n",
    "predictions <- predict(rf_model, test_x)\n",
    "print(predictions)\n",
    "performance <- postResample(predictions, test_y)\n",
    "print(performance)\n",
    "results <- data.frame(Actual = test_y, Predicted = predictions)\n",
    "plot(results$Actual, type = 'l', col = 'blue', xlab = 'Month Index', ylab = 'Inflation Rate', main = 'Actual vs Predicted Inflation')\n",
    "lines(results$Predicted, col = 'red')"
   ]
  },
  {
   "cell_type": "markdown",
   "id": "8bb8aa5c",
   "metadata": {},
   "source": [
    "### AR(1)"
   ]
  },
  {
   "cell_type": "code",
   "execution_count": null,
   "id": "7c131738",
   "metadata": {},
   "outputs": [],
   "source": [
    "data_ts <- ts(train_data_lag12$Inflation_Rate, frequency=12)\n",
    "adf.test(data_ts, alternative = \"stationary\")\n",
    "ar_order <- auto.arima(data_ts, ic = \"aic\", trace = TRUE, stepwise = FALSE, approximation = FALSE)\n",
    "ar_model <- Arima(data_ts, order=c(ar_order$arma[1], 0, 0))\n",
    "future_values <- forecast(ar_model, h=49)\n",
    "print(future_values)\n",
    "plot(future_values)\n",
    "summary(ar_model)"
   ]
  }
 ],
 "metadata": {
  "kernelspec": {
   "display_name": "R",
   "language": "R",
   "name": "ir"
  },
  "language_info": {
   "codemirror_mode": "r",
   "file_extension": ".r",
   "mimetype": "text/x-r-source",
   "name": "R",
   "pygments_lexer": "r",
   "version": "4.1.1"
  }
 },
 "nbformat": 4,
 "nbformat_minor": 5
}
